{
  "nbformat": 4,
  "nbformat_minor": 0,
  "metadata": {
    "colab": {
      "provenance": []
    },
    "kernelspec": {
      "name": "python3",
      "display_name": "Python 3"
    },
    "language_info": {
      "name": "python"
    }
  },
  "cells": [
    {
      "cell_type": "markdown",
      "source": [
        "Q1 . In the below elements which of them are values or an expression? eg:- values can be integer or string and expressions will be mathematical operators.\n",
        "\n",
        "Ans :- 1) * = operator\n",
        "\n",
        "2) 'hello'= value\n",
        "\n",
        "3) -87.8 = value\n",
        "\n",
        "4) - = operator\n",
        "\n",
        "5) / = operator\n",
        "\n",
        "6) + = operator\n",
        "\n",
        "7) 6 = value\n"
      ],
      "metadata": {
        "id": "jUAWU1E60_Y5"
      }
    },
    {
      "cell_type": "markdown",
      "source": [
        "Q2. What is the difference between string and variable?\n",
        "\n",
        "Ans - String :- String is a datatype .\n",
        "Variable :- Variables are containers for storing data values. For example x= \"Shiva\" , Here x is a variable and \"Shiva\" is a string."
      ],
      "metadata": {
        "id": "urSoCk-Y1Mwu"
      }
    },
    {
      "cell_type": "markdown",
      "source": [
        "Q3. Describe three different data types.\n",
        "\n",
        "Ans :- Text Type = str\n",
        "\n",
        "Numeric Types = int, float, complex\n",
        "\n",
        "Boolean Type = bool"
      ],
      "metadata": {
        "id": "WhE6hM-l1Qzz"
      }
    },
    {
      "cell_type": "markdown",
      "source": [
        "Q4. What is an expression made up of? What do all expressions do?\n",
        "\n",
        "Ans. An expression is a combination of operators, variables, values. Expressions need to be evaluated .All expressions evaluate to a single value."
      ],
      "metadata": {
        "id": "EFi3V_fw1ZsN"
      }
    },
    {
      "cell_type": "markdown",
      "source": [
        "Q5. This assignment statements, like spam = 10. What is the difference between an expression and a statement?\n",
        "\n",
        "Ans. A statement does something. Statements represent an action or command e.g print statements, assignment statements. An expression is a combination of operators, variables, values. Expressions need to be evaluated. An expression is something that can be reduced to a value."
      ],
      "metadata": {
        "id": "ZVin3gHs1ejY"
      }
    },
    {
      "cell_type": "markdown",
      "source": [
        "Q6. After running the following code, what does the variable bacon contain? bacon = 22 bacon + 1"
      ],
      "metadata": {
        "id": "1sHLbbZY1jdn"
      }
    },
    {
      "cell_type": "code",
      "execution_count": 2,
      "metadata": {
        "colab": {
          "base_uri": "https://localhost:8080/"
        },
        "id": "q5k0xLQN0rPq",
        "outputId": "f7c88ded-5e90-45f4-ba94-b9350d71a7fd"
      },
      "outputs": [
        {
          "output_type": "stream",
          "name": "stdout",
          "text": [
            "22\n"
          ]
        }
      ],
      "source": [
        "bacon = 22\n",
        "bacon + 1\n",
        "print(bacon)"
      ]
    },
    {
      "cell_type": "markdown",
      "source": [
        "Q7. What should the values of the following two terms be? 'spam' + 'spamspam' 'spam' * 3"
      ],
      "metadata": {
        "id": "YIQo4Fw_2Crq"
      }
    },
    {
      "cell_type": "code",
      "source": [
        "print('spam'+'spamspam')\n",
        "print('spam'*3)"
      ],
      "metadata": {
        "colab": {
          "base_uri": "https://localhost:8080/"
        },
        "id": "bUaiK8mD14lX",
        "outputId": "4d8ed690-2a38-4a37-cc34-c17e83d09ef1"
      },
      "execution_count": 3,
      "outputs": [
        {
          "output_type": "stream",
          "name": "stdout",
          "text": [
            "spamspamspam\n",
            "spamspamspam\n"
          ]
        }
      ]
    },
    {
      "cell_type": "markdown",
      "source": [
        "Q8. Why is eggs a valid variable name while 100 is invalid?\n",
        "\n",
        "Ans. According to rules in python: A variable name cannot start with a number, therefore 100 cannot be the variable name ."
      ],
      "metadata": {
        "id": "0Cc3M_ZJ2PxJ"
      }
    },
    {
      "cell_type": "markdown",
      "source": [
        "Q9. What three functions can be used to get the integer, floating-point number, or string version of a value?\n",
        "\n",
        "Ans :- The int(), float(), and str() functions will evaluate to the integer, floating-point number, and string versions of the value passed to them.\n",
        "\n",
        "I can explain this by using a code"
      ],
      "metadata": {
        "id": "ff_EkEjZ2Tio"
      }
    },
    {
      "cell_type": "code",
      "source": [
        "# Converting to integer\n",
        "int_value = int(10)\n",
        "print(type(int_value))\n",
        "#Converting to float\n",
        "float_value = float(10)\n",
        "print(type(float_value ))\n",
        "#Converting to String\n",
        "string_value = str(10)\n",
        "print(type(string_value))"
      ],
      "metadata": {
        "colab": {
          "base_uri": "https://localhost:8080/"
        },
        "id": "OlII2FYa142-",
        "outputId": "05d68e8a-2c39-46c7-cb5a-3b0f3ff7b585"
      },
      "execution_count": 4,
      "outputs": [
        {
          "output_type": "stream",
          "name": "stdout",
          "text": [
            "<class 'int'>\n",
            "<class 'float'>\n",
            "<class 'str'>\n"
          ]
        }
      ]
    },
    {
      "cell_type": "markdown",
      "source": [
        "Q10. Why does this expression cause an error? How can you fix it?\n",
        "\n",
        "Ans :- The expression causes an error because 99 is an integer, and only strings can be concatenated to other strings with the + operator. The correct way is 'I have eaten ' + str(99) + ' burritos.'.\n",
        "\n",
        " "
      ],
      "metadata": {
        "id": "CzzkW26T2j3d"
      }
    },
    {
      "cell_type": "code",
      "source": [
        " 'I have eaten ' + str(99) + ' burritos.'"
      ],
      "metadata": {
        "colab": {
          "base_uri": "https://localhost:8080/",
          "height": 36
        },
        "id": "U9kCgGAY15B2",
        "outputId": "abd10dc6-18d4-4723-87d4-588477c3b0e7"
      },
      "execution_count": 6,
      "outputs": [
        {
          "output_type": "execute_result",
          "data": {
            "text/plain": [
              "'I have eaten 99 burritos.'"
            ],
            "application/vnd.google.colaboratory.intrinsic+json": {
              "type": "string"
            }
          },
          "metadata": {},
          "execution_count": 6
        }
      ]
    },
    {
      "cell_type": "code",
      "source": [],
      "metadata": {
        "id": "Nu7ONMQ615Ow"
      },
      "execution_count": null,
      "outputs": []
    }
  ]
}